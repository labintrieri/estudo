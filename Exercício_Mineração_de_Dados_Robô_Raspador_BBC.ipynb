{
  "nbformat": 4,
  "nbformat_minor": 0,
  "metadata": {
    "colab": {
      "provenance": [],
      "include_colab_link": true
    },
    "kernelspec": {
      "name": "python3",
      "display_name": "Python 3"
    },
    "language_info": {
      "name": "python"
    }
  },
  "cells": [
    {
      "cell_type": "markdown",
      "metadata": {
        "id": "view-in-github",
        "colab_type": "text"
      },
      "source": [
        "<a href=\"https://colab.research.google.com/github/labintrieri/estudo/blob/main/Exerc%C3%ADcio_Minera%C3%A7%C3%A3o_de_Dados_Rob%C3%B4_Raspador_BBC.ipynb\" target=\"_parent\"><img src=\"https://colab.research.google.com/assets/colab-badge.svg\" alt=\"Open In Colab\"/></a>"
      ]
    },
    {
      "cell_type": "code",
      "execution_count": null,
      "metadata": {
        "id": "beMHjfxia7pd"
      },
      "outputs": [],
      "source": [
        "#importando bibliotecas\n",
        "import requests\n",
        "import bs4\n",
        "import time\n"
      ]
    },
    {
      "cell_type": "code",
      "source": [
        "#função que cria arquivos\n",
        "def grava_arquivo(nome, titulo, texto):\n",
        "  conteudo = titulo + \"\\n\"\n",
        "\n",
        "  for paragrafo in texto:\n",
        "    conteudo = conteudo + paragrafo + \"\\n\"\n",
        "\n",
        "  with open(nome,'w') as f:\n",
        "          f.write(conteudo)\n",
        "\n"
      ],
      "metadata": {
        "id": "XUmCYZrfa8YQ"
      },
      "execution_count": null,
      "outputs": []
    },
    {
      "cell_type": "code",
      "source": [
        "#vamos capturar o assunto \"Ciência\"\n",
        "\n",
        "result = requests.get(\"https://www.bbc.com/portuguese/topics/cr50y580rjxt\")\n",
        "soup = bs4.BeautifulSoup(result.text)\n",
        "\n",
        "links = soup.find_all('a', { 'class': 'focusIndicatorDisplayBlock bbc-uk8dsi e1d658bg0' }) #pegando links\n",
        "\n"
      ],
      "metadata": {
        "id": "ZtKuPee2a8b6"
      },
      "execution_count": null,
      "outputs": []
    },
    {
      "cell_type": "code",
      "source": [
        "numero_de_artigos = 0 #criando variável 0 para o laço ir somando +1 depois\n",
        "\n",
        "lista_dos_nomes_arquivos_criados = [] #criando lista vazia para povoar depois\n",
        "\n",
        "for link in links:\n",
        "    time.sleep(2)\n",
        "    print(link['href'])\n",
        "    result2 = requests.get(link['href'])\n",
        "    soup2 = bs4.BeautifulSoup(result2.text)\n",
        "    if not( (soup2.find('h1',attrs={\"class\":\"bbc-14gqcmb e1p3vdyi0\"})) is None ): #não é vídeo\n",
        "          titulo = soup2.find('h1',attrs={\"class\":\"bbc-14gqcmb e1p3vdyi0\"}).text #pegar título\n",
        "          texto = [] #criando lista vazia para povoar depois\n",
        "          for linha in soup2.find_all('div',attrs={\"class\":\"bbc-19j92fr ebmt73l0\"}): #pegar parágrafo\n",
        "            texto.append(linha.text) #povoando a lista texto\n",
        "          numero_de_artigos = numero_de_artigos + 1 #laço para ir somando o número de artigos\n",
        "          nome_do_arquivo = 'arq'+str(numero_de_artigos)+\".txt\" #usa o número de artigos para criar os arquivos\n",
        "          lista_dos_nomes_arquivos_criados.append(nome_do_arquivo) #povoando a lsita dos nomes dos arquivos criados\n",
        "          grava_arquivo(nome_do_arquivo, titulo, texto) #resgata a bota pra rodar a função que cria arquivos\n",
        "          print(\"................\")\n",
        "\n",
        "print(lista_dos_nomes_arquivos_criados)"
      ],
      "metadata": {
        "id": "dkb-kN-Z_vDI",
        "colab": {
          "base_uri": "https://localhost:8080/"
        },
        "outputId": "111cc560-788a-4001-e65e-266c0522c65d"
      },
      "execution_count": null,
      "outputs": [
        {
          "output_type": "stream",
          "name": "stdout",
          "text": [
            "https://www.bbc.com/portuguese/articles/clmp08dj43vo\n",
            "................\n",
            "https://www.bbc.com/portuguese/articles/c032drl6376o\n",
            "................\n",
            "https://www.bbc.com/portuguese/articles/c292zegeg2yo\n",
            "................\n",
            "https://www.bbc.com/portuguese/articles/cn0p3xlp2p9o\n",
            "................\n",
            "https://www.bbc.com/portuguese/articles/c3g273zjkdpo\n",
            "................\n",
            "https://www.bbc.com/portuguese/articles/cprp5x929p8o\n",
            "................\n",
            "https://www.bbc.com/portuguese/articles/cekpy981vy0o\n",
            "................\n",
            "https://www.bbc.com/portuguese/articles/cyx2ddnp5l0o\n",
            "https://www.bbc.com/portuguese/articles/c99enlvxv0do\n",
            "................\n",
            "https://www.bbc.com/portuguese/articles/c51r229y3vwo\n",
            "................\n",
            "https://www.bbc.com/portuguese/articles/cw02k55wp1ko\n",
            "https://www.bbc.com/portuguese/articles/cxx1rwj3zzjo\n",
            "................\n",
            "https://www.bbc.com/portuguese/articles/cw02xy364gwo\n",
            "................\n",
            "https://www.bbc.com/portuguese/articles/cv2z7p43d1po\n",
            "................\n",
            "https://www.bbc.com/portuguese/articles/ckkp94nrkygo\n",
            "................\n",
            "https://www.bbc.com/portuguese/articles/c4n8j931px0o\n",
            "................\n",
            "https://www.bbc.com/portuguese/articles/c9w31w7rm34o\n",
            "................\n",
            "https://www.bbc.com/portuguese/articles/cd1pzmm86zlo\n",
            "................\n",
            "https://www.bbc.com/portuguese/articles/crgpjk0kqn4o\n",
            "................\n",
            "https://www.bbc.com/portuguese/articles/ck5p1748jpzo\n",
            "................\n",
            "https://www.bbc.com/portuguese/articles/c1e2kgxv17qo\n",
            "https://www.bbc.com/portuguese/articles/c9r60p1d296o\n",
            "https://www.bbc.com/portuguese/articles/c9r6dz0pl1po\n",
            "https://www.bbc.com/portuguese/articles/c9xr77ker86o\n",
            "................\n",
            "['arq1.txt', 'arq2.txt', 'arq3.txt', 'arq4.txt', 'arq5.txt', 'arq6.txt', 'arq7.txt', 'arq8.txt', 'arq9.txt', 'arq10.txt', 'arq11.txt', 'arq12.txt', 'arq13.txt', 'arq14.txt', 'arq15.txt', 'arq16.txt', 'arq17.txt', 'arq18.txt', 'arq19.txt']\n"
          ]
        }
      ]
    },
    {
      "cell_type": "code",
      "source": [
        "#vamos carregar a biblioteca Spacy\n",
        "import spacy.cli\n",
        "spacy.cli.download(\"pt_core_news_sm\")\n",
        "\n",
        "import spacy\n",
        "nlp = spacy.load(\"pt_core_news_sm\")"
      ],
      "metadata": {
        "id": "F1AxfBVPmo83",
        "colab": {
          "base_uri": "https://localhost:8080/"
        },
        "outputId": "78fc74de-31da-49a9-9612-7815ac1c0aa7"
      },
      "execution_count": null,
      "outputs": [
        {
          "output_type": "stream",
          "name": "stdout",
          "text": [
            "\u001b[38;5;2m✔ Download and installation successful\u001b[0m\n",
            "You can now load the package via spacy.load('pt_core_news_sm')\n"
          ]
        }
      ]
    },
    {
      "cell_type": "code",
      "source": [
        "#vamos ler os arquivos que foram criados e começar a classificação\n",
        "def le_str_arq(nome):\n",
        "  arquivo = open(nome, \"r\")\n",
        "  dados = arquivo.read()\n",
        "  arquivo.close()\n",
        "  return dados\n",
        "\n",
        "for nome_arquivo in lista_dos_nomes_arquivos_criados:\n",
        "  texto = le_str_arq(nome_arquivo)\n",
        "  print(nome_arquivo)\n",
        "  doc = nlp(texto)\n",
        "  for entity in doc.ents:\n",
        "      print(entity, entity.label_)\n"
      ],
      "metadata": {
        "id": "O26fP9KWa8e8"
      },
      "execution_count": null,
      "outputs": []
    },
    {
      "cell_type": "code",
      "source": [
        "import pandas as pd"
      ],
      "metadata": {
        "id": "2KiH0vZDa8hz"
      },
      "execution_count": null,
      "outputs": []
    },
    {
      "cell_type": "code",
      "source": [
        "#criando o df que irá receber as informações\n",
        "df = pd.DataFrame(columns=['artigo','entidade_nomeada','categoria'])"
      ],
      "metadata": {
        "id": "XmQDX4kba8kb"
      },
      "execution_count": null,
      "outputs": []
    },
    {
      "cell_type": "code",
      "source": [
        "#povoando o df\n",
        "for nome_arquivo in lista_dos_nomes_arquivos_criados:\n",
        "    texto = le_str_arq(nome_arquivo)\n",
        "    doc = nlp(texto)\n",
        "    for entity in doc.ents:\n",
        "        df.loc[len(df.index)] = [nome_arquivo, entity.text, entity.label_]\n",
        "\n"
      ],
      "metadata": {
        "id": "jgy5eneEa8nE"
      },
      "execution_count": null,
      "outputs": []
    },
    {
      "cell_type": "code",
      "source": [
        "#vamos ver se deu certo o povoamento do df\n",
        "df.shape\n",
        "df.head\n",
        "\n"
      ],
      "metadata": {
        "id": "4WhcC8ywa8pn"
      },
      "execution_count": null,
      "outputs": []
    },
    {
      "cell_type": "code",
      "source": [
        "#averiguando com mais detalhe se deu certo\n",
        "print(df['entidade_nomeada'].value_counts())"
      ],
      "metadata": {
        "id": "8Pe0fXcyNNBE"
      },
      "execution_count": null,
      "outputs": []
    },
    {
      "cell_type": "code",
      "source": [
        "#vamos criar o csv\n",
        "df.to_csv('ner.csv')"
      ],
      "metadata": {
        "id": "aYL-S3ECa8vW"
      },
      "execution_count": null,
      "outputs": []
    }
  ]
}