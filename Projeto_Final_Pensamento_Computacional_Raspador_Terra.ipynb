{
  "nbformat": 4,
  "nbformat_minor": 0,
  "metadata": {
    "colab": {
      "provenance": [],
      "authorship_tag": "ABX9TyMtZROj5jnetgvcEV736XOl",
      "include_colab_link": true
    },
    "kernelspec": {
      "name": "python3",
      "display_name": "Python 3"
    },
    "language_info": {
      "name": "python"
    }
  },
  "cells": [
    {
      "cell_type": "markdown",
      "metadata": {
        "id": "view-in-github",
        "colab_type": "text"
      },
      "source": [
        "<a href=\"https://colab.research.google.com/github/labintrieri/estudo/blob/main/Projeto_Final_Pensamento_Computacional_Raspador_Terra.ipynb\" target=\"_parent\"><img src=\"https://colab.research.google.com/assets/colab-badge.svg\" alt=\"Open In Colab\"/></a>"
      ]
    },
    {
      "cell_type": "markdown",
      "source": [
        "##Trabalho final da disciplina Pensamento Computacional\n",
        "###Laura Intrieri\n",
        "\n",
        "*Vamos facilitar a vida de uma repórter que deve guardar o conteúdo de matérias publicadas em um portal:*\n",
        "\n",
        "1. Acessar o portal\n",
        "2. Identificar uma das duas possibilidades de conteúdo: é artigo normal ou um web story?\n",
        "4. Raspar título, subtítulo, imagem e url do conteúdo\n",
        "5. Criar csv com o conteúdo raspado"
      ],
      "metadata": {
        "id": "ORHOmfMo0VbP"
      }
    },
    {
      "cell_type": "code",
      "source": [
        "# importando bibliotecas\n",
        "\n",
        "import requests\n",
        "import bs4\n",
        "import pandas as pd\n",
        "import os\n",
        "\n",
        "# acessando e raspando o site\n",
        "\n",
        "url = input('Cole aqui o URL: ')\n",
        "site = requests.get(url)\n",
        "soup = bs4.BeautifulSoup(site.text)\n",
        "\n",
        "# separando conteúdos desejados\n",
        "\n",
        "  # título - funciona para textos e WS\n",
        "\n",
        "titulo = soup.find('h1').text\n",
        "print( )\n",
        "print(titulo if titulo else \"Título não encontrado\")\n",
        "\n",
        "  # verificando se é texto ou WS\n",
        "\n",
        "if soup.find('span', {'class': 'text-medium'}): # a chave para distinguir entre um \"WS\" e um texto comum\n",
        "    # subtítulo - WS\n",
        "    subtitulo = soup.find('span', {'class': 'text-medium'}).text\n",
        "    # imagem - WS\n",
        "    imagem = soup.find('meta', {'property': 'og:image'})['content'] if soup.find('meta', {'property': 'og:image'}) else \"Imagem não encontrada\"\n",
        "else: # se o código chegou aqui, é porque estamos lidando com um texto (a condição if não foi atendida)\n",
        "    # subtítulo - Texto\n",
        "    subtitulo = soup.find('h2').text if soup.find('h2') else \"Subtítulo não encontrado\"\n",
        "    # imagem - Texto\n",
        "    imagem = soup.find('img')['src'] if soup.find('img') else \"Imagem não encontrada\"\n",
        "\n",
        "print( )\n",
        "print(subtitulo)\n",
        "print( )\n",
        "print(url)\n",
        "print( )\n",
        "print(imagem)\n",
        "\n",
        "\n",
        "# salvando os dados\n",
        "\n",
        "materia = [titulo,subtitulo,url,imagem] # isso daqui é uma lista\n",
        "nova_materia_df = pd.DataFrame([materia], columns=['Título', 'Subtítulo', 'URL', 'Imagem']) # agora transformou em csv\n",
        "arquivo_csv = 'materias.csv'\n",
        "\n",
        "# verifica se o arquivo CSV já existe. Se existir, lê o conteúdo, se não, cria um DataFrame vazio\n",
        "if os.path.exists(arquivo_csv):\n",
        "    materia_df = pd.read_csv(arquivo_csv)\n",
        "else:\n",
        "    materia_df = pd.DataFrame(columns=['Título', 'Subtítulo', 'URL', 'Imagem'])\n",
        "\n",
        "materia_df = pd.concat([materia_df, nova_materia_df], ignore_index=True)\n",
        "materia_df.to_csv('materias.csv', index=False)\n",
        "\n"
      ],
      "metadata": {
        "id": "BOKDQtXvcYVc",
        "colab": {
          "base_uri": "https://localhost:8080/"
        },
        "outputId": "61ad36e2-690f-4e73-d4e4-0d48a7362937"
      },
      "execution_count": null,
      "outputs": [
        {
          "output_type": "stream",
          "name": "stdout",
          "text": [
            "Cole aqui o URL: https://www.terra.com.br/amp/story/byte/veja-6-mitos-sobre-abelhas,93b883bf981e3a25563eb79c6e37b1ca74h5xokw.html\n",
            "\n",
            "Do ferrão ao mel: veja 6 mitos sobre abelhas\n",
            "\n",
            "Quanto tempo vivem? Todas fazem mel? Veja essas e outras lendas esclarecidas\n",
            "\n",
            "https://www.terra.com.br/amp/story/byte/veja-6-mitos-sobre-abelhas,93b883bf981e3a25563eb79c6e37b1ca74h5xokw.html\n",
            "\n",
            "https://p2.trrsf.com/image/fget/cf/1200/628/images.terra.com/2023/10/13/1607723608-abelha-erik-karits-pixabay.jpg\n"
          ]
        }
      ]
    }
  ]
}